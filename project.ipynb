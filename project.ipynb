{
 "cells": [
  {
   "cell_type": "code",
   "execution_count": 1,
   "metadata": {},
   "outputs": [],
   "source": [
    "import pandas as pd\n",
    "import pyarrow.parquet as pq\n",
    "import numpy as np\n",
    "import matplotlib.pyplot as plt\n",
    "import vaex\n",
    "import seaborn as sns\n",
    "\n",
    "\n",
    "%matplotlib inline\n",
    "\n",
    "%matplotlib inline\n",
    "%load_ext autoreload\n",
    "%autoreload 2"
   ]
  },
  {
   "cell_type": "code",
   "execution_count": 2,
   "metadata": {},
   "outputs": [],
   "source": [
    "from utils import compute_R_fast\n",
    "from utils import compute_R, compute_R_over_time,compute_R_correctly, compute_R_over_time_correctly\n",
    "from utils import extract_digit\n",
    "#from utils import compute_R_over_time\n",
    "\n",
    "#events = pd.read_parquet(\"../fbd/data/clean/intraday/SPY.P_2010.parquet\")\n",
    "#events.set_index(\"index\",inplace=True)\n",
    "\n",
    "## we may need to collapse trades with exactly the same (bid,ask,trade price) together to reduce computational load and make things easier\n",
    "## often these trade are a result of one big trade being chunked\n",
    "\n",
    "# available one liner to aggregate trades\n",
    "#! events =  events.groupby([\"bid\",\"ask\",\"trade.price\"])[\"trade.volume\"].aggregate([\"idxmin\",\"sum\"]).reset_index().rename(columns={\"sum\":\"trade.volume\"})\n",
    "\n",
    "\n",
    "#events= compute_trade_sign(events)\n",
    "\n",
    "df = vaex.open(\"data/clean/DOW/BA-events_w_s.arrow\")\n",
    "events = df.to_pandas_df()\n",
    "events.set_index(\"index\",inplace=True)\n"
   ]
  },
  {
   "cell_type": "code",
   "execution_count": 5,
   "metadata": {},
   "outputs": [
    {
     "name": "stderr",
     "output_type": "stream",
     "text": [
      "/home/harold/miniconda3/envs/fbd/lib/python3.9/site-packages/distributed/node.py:180: UserWarning: Port 8787 is already in use.\n",
      "Perhaps you already have a cluster running?\n",
      "Hosting the HTTP server on port 38547 instead\n",
      "  warnings.warn(\n"
     ]
    },
    {
     "data": {
      "text/plain": [
       "trade_sign  digit\n",
       "BUY         0        [0.0, 0.00043743273653383893, 0.00093896277383...\n",
       "            1        [0.0, 0.0018126840241031415, 0.001775240907677...\n",
       "            2        [0.0, 0.0006989444609946129, 0.001617428592102...\n",
       "            3        [0.0, 0.0005717118565823101, 0.000330802484957...\n",
       "            4        [0.0, 0.0005931915370225271, 0.001961121013145...\n",
       "            5        [0.0, 0.0013843007049575147, 0.001777669289994...\n",
       "            6        [0.0, 0.002149569011055244, 0.0031754265055306...\n",
       "            7        [0.0, 0.0011785370791385348, 0.002838669223159...\n",
       "            8        [0.0, 0.001274775016611398, 0.0025231307606605...\n",
       "            9        [0.0, 0.001009019333816812, 0.0015130790495332...\n",
       "SELL        0        [0.0, 0.0011184196394350534, 0.002229801809931...\n",
       "            1        [0.0, 0.0008757479397778962, 0.002485879633454...\n",
       "            2        [0.0, 0.0008817288672950936, 0.002117786368187...\n",
       "            3        [0.0, 0.0008582726985932754, 0.001813481740732...\n",
       "            4        [0.0, 0.0017013411436769667, 0.002805087105023...\n",
       "            5        [0.0, 0.001301354054013026, 0.0022949832151508...\n",
       "            6        [0.0, 0.0012784960352463454, 0.001988541824578...\n",
       "            7        [0.0, 0.0013974606582720995, 0.002851878302290...\n",
       "            8        [0.0, 0.0012225391407536977, 0.001763573408130...\n",
       "            9        [0.0, 0.001400384860937208, 0.0024306555272060...\n",
       "dtype: object"
      ]
     },
     "execution_count": 5,
     "metadata": {},
     "output_type": "execute_result"
    }
   ],
   "source": [
    "compute_R_over_time_correctly(events=events.iloc[0:100000], k=1, tau_max=1000)"
   ]
  },
  {
   "cell_type": "code",
   "execution_count": 24,
   "metadata": {},
   "outputs": [
    {
     "data": {
      "text/plain": [
       "trade_sign  unit_digit\n",
       "BUY         0             [-2.4869026026853782e-14, 0.000115471643989046...\n",
       "            1             [2.2677946323040612e-13, 6.152531041072613e-05...\n",
       "            2             [-8.58528060546603e-14, 0.0001017418563154965,...\n",
       "            3             [2.7857342785871363e-13, 5.972343600336688e-05...\n",
       "            4             [-6.013782828995552e-14, -4.874572645759606e-0...\n",
       "            5             [-2.5154072613592964e-14, 0.000140868804437793...\n",
       "            6             [1.696044527689766e-13, 0.00011782674045833169...\n",
       "            7             [-7.922345188809265e-14, 6.966580198106725e-05...\n",
       "            8             [2.9534395065818004e-13, -5.561383953915344e-0...\n",
       "            9             [-6.892891709021203e-14, -1.6751440057541485e-...\n",
       "SELL        0             [4.203897990326052e-13, -0.0001418744624707777...\n",
       "            1             [1.9168604571008623e-13, -8.340351534066518e-0...\n",
       "            2             [-9.250004280803519e-14, -1.770990431972242e-0...\n",
       "            3             [1.5842526611441459e-13, 6.422208958991003e-05...\n",
       "            4             [-2.5050151270314934e-13, 0.000107085648354890...\n",
       "            5             [2.7320387767845066e-13, -8.512221436766544e-0...\n",
       "            6             [1.9425381352921212e-13, -2.6732383483329412e-...\n",
       "            7             [-7.206466837601005e-14, 2.3462986332947534e-0...\n",
       "            8             [1.1793475174176883e-13, 6.267312408332365e-05...\n",
       "            9             [-3.130078224369134e-13, 6.621051443851936e-05...\n",
       "dtype: object"
      ]
     },
     "execution_count": 24,
     "metadata": {},
     "output_type": "execute_result"
    }
   ],
   "source": [
    "events[\"unit_digit\"] = pd.Categorical(extract_digit(events, k=1))\n",
    "events[\"trade_sign\"] = pd.Categorical(events[\"s\"].apply(lambda x : \"BUY\" if x == 1 else \"SELL\"))\n",
    "\n",
    "\n",
    "response_functions = events.groupby([\"trade_sign\", \"unit_digit\"]).apply(\n",
    "                lambda x: compute_R_over_time(x, tau_max=200)\n",
    "            )\n",
    "\n",
    "response_functions"
   ]
  },
  {
   "cell_type": "code",
   "execution_count": 48,
   "metadata": {},
   "outputs": [
    {
     "data": {
      "text/plain": [
       "pandas.core.series.Series"
      ]
     },
     "execution_count": 48,
     "metadata": {},
     "output_type": "execute_result"
    }
   ],
   "source": [
    "type(response_functions)"
   ]
  },
  {
   "cell_type": "code",
   "execution_count": 49,
   "metadata": {},
   "outputs": [
    {
     "data": {
      "text/plain": [
       "trade_sign  digit\n",
       "BUY         0        [0.0, 0.0, 0.0, 0.0, 0.0, 0.0, 0.0, 0.0, 0.0, ...\n",
       "            1        [0.0, 0.0, 0.0, 0.0, 0.0, 0.0, 0.0, 0.0, 0.0, ...\n",
       "            2        [0.0, 0.0, 0.0, 0.0, 0.0, 0.0, 0.0, 0.0, 0.0, ...\n",
       "            3        [0.0, 0.0, 0.0, 0.0, 0.0, 0.0, 0.0, 0.0, 0.0, ...\n",
       "            4        [0.0, 0.0, 0.0, 0.0, 0.0, 0.0, 0.0, 0.0, 0.0, ...\n",
       "            5        [0.0, 0.0, 0.0, 0.0, 0.0, 0.0, 0.0, 0.0, 0.0, ...\n",
       "            6        [0.0, 0.0, 0.0, 0.0, 0.0, 0.0, 0.0, 0.0, 0.0, ...\n",
       "            7        [0.0, 0.0, 0.0, 0.0, 0.0, 0.0, 0.0, 0.0, 0.0, ...\n",
       "            8        [0.0, 0.0, 0.0, 0.0, 0.0, 0.0, 0.0, 0.0, 0.0, ...\n",
       "            9        [0.0, 0.0, 0.0, 0.0, 0.0, 0.0, 0.0, 0.0, 0.0, ...\n",
       "SELL        0        [1.0, 1.0, 1.0, 1.0, 1.0, 1.0, 1.0, 1.0, 1.0, ...\n",
       "            1        [1.0, 1.0, 1.0, 1.0, 1.0, 1.0, 1.0, 1.0, 1.0, ...\n",
       "            2        [1.0, 1.0, 1.0, 1.0, 1.0, 1.0, 1.0, 1.0, 1.0, ...\n",
       "            3        [1.0, 1.0, 1.0, 1.0, 1.0, 1.0, 1.0, 1.0, 1.0, ...\n",
       "            4        [1.0, 1.0, 1.0, 1.0, 1.0, 1.0, 1.0, 1.0, 1.0, ...\n",
       "            5        [1.0, 1.0, 1.0, 1.0, 1.0, 1.0, 1.0, 1.0, 1.0, ...\n",
       "            6        [1.0, 1.0, 1.0, 1.0, 1.0, 1.0, 1.0, 1.0, 1.0, ...\n",
       "            7        [1.0, 1.0, 1.0, 1.0, 1.0, 1.0, 1.0, 1.0, 1.0, ...\n",
       "            8        [1.0, 1.0, 1.0, 1.0, 1.0, 1.0, 1.0, 1.0, 1.0, ...\n",
       "            9        [1.0, 1.0, 1.0, 1.0, 1.0, 1.0, 1.0, 1.0, 1.0, ...\n",
       "dtype: object"
      ]
     },
     "execution_count": 49,
     "metadata": {},
     "output_type": "execute_result"
    }
   ],
   "source": [
    "index = pd.MultiIndex.from_product([[\"BUY\",\"SELL\"],list(range(10))], names=[\"trade_sign\", \"digit\"])\n",
    "\n",
    "test = [np.zeros(200) for i in range(10)] + [np.ones(200) for i in range(10)]\n",
    "\n",
    "pd.Series(test,index=index)"
   ]
  },
  {
   "cell_type": "code",
   "execution_count": 39,
   "metadata": {},
   "outputs": [
    {
     "data": {
      "text/html": [
       "<div>\n",
       "<style scoped>\n",
       "    .dataframe tbody tr th:only-of-type {\n",
       "        vertical-align: middle;\n",
       "    }\n",
       "\n",
       "    .dataframe tbody tr th {\n",
       "        vertical-align: top;\n",
       "    }\n",
       "\n",
       "    .dataframe thead th {\n",
       "        text-align: right;\n",
       "    }\n",
       "</style>\n",
       "<table border=\"1\" class=\"dataframe\">\n",
       "  <thead>\n",
       "    <tr style=\"text-align: right;\">\n",
       "      <th></th>\n",
       "      <th>BUY</th>\n",
       "      <th>SELL</th>\n",
       "    </tr>\n",
       "  </thead>\n",
       "  <tbody>\n",
       "    <tr>\n",
       "      <th>0</th>\n",
       "      <td>[0.0, 0.0, 0.0, 0.0, 0.0, 0.0, 0.0, 0.0, 0.0, ...</td>\n",
       "      <td>[0.0, 0.0, 0.0, 0.0, 0.0, 0.0, 0.0, 0.0, 0.0, ...</td>\n",
       "    </tr>\n",
       "    <tr>\n",
       "      <th>1</th>\n",
       "      <td>[0.0, 0.0, 0.0, 0.0, 0.0, 0.0, 0.0, 0.0, 0.0, ...</td>\n",
       "      <td>[0.0, 0.0, 0.0, 0.0, 0.0, 0.0, 0.0, 0.0, 0.0, ...</td>\n",
       "    </tr>\n",
       "    <tr>\n",
       "      <th>2</th>\n",
       "      <td>[0.0, 0.0, 0.0, 0.0, 0.0, 0.0, 0.0, 0.0, 0.0, ...</td>\n",
       "      <td>[0.0, 0.0, 0.0, 0.0, 0.0, 0.0, 0.0, 0.0, 0.0, ...</td>\n",
       "    </tr>\n",
       "    <tr>\n",
       "      <th>3</th>\n",
       "      <td>[0.0, 0.0, 0.0, 0.0, 0.0, 0.0, 0.0, 0.0, 0.0, ...</td>\n",
       "      <td>[0.0, 0.0, 0.0, 0.0, 0.0, 0.0, 0.0, 0.0, 0.0, ...</td>\n",
       "    </tr>\n",
       "    <tr>\n",
       "      <th>4</th>\n",
       "      <td>[0.0, 0.0, 0.0, 0.0, 0.0, 0.0, 0.0, 0.0, 0.0, ...</td>\n",
       "      <td>[0.0, 0.0, 0.0, 0.0, 0.0, 0.0, 0.0, 0.0, 0.0, ...</td>\n",
       "    </tr>\n",
       "    <tr>\n",
       "      <th>5</th>\n",
       "      <td>[0.0, 0.0, 0.0, 0.0, 0.0, 0.0, 0.0, 0.0, 0.0, ...</td>\n",
       "      <td>[0.0, 0.0, 0.0, 0.0, 0.0, 0.0, 0.0, 0.0, 0.0, ...</td>\n",
       "    </tr>\n",
       "    <tr>\n",
       "      <th>6</th>\n",
       "      <td>[0.0, 0.0, 0.0, 0.0, 0.0, 0.0, 0.0, 0.0, 0.0, ...</td>\n",
       "      <td>[0.0, 0.0, 0.0, 0.0, 0.0, 0.0, 0.0, 0.0, 0.0, ...</td>\n",
       "    </tr>\n",
       "    <tr>\n",
       "      <th>7</th>\n",
       "      <td>[0.0, 0.0, 0.0, 0.0, 0.0, 0.0, 0.0, 0.0, 0.0, ...</td>\n",
       "      <td>[0.0, 0.0, 0.0, 0.0, 0.0, 0.0, 0.0, 0.0, 0.0, ...</td>\n",
       "    </tr>\n",
       "    <tr>\n",
       "      <th>8</th>\n",
       "      <td>[0.0, 0.0, 0.0, 0.0, 0.0, 0.0, 0.0, 0.0, 0.0, ...</td>\n",
       "      <td>[0.0, 0.0, 0.0, 0.0, 0.0, 0.0, 0.0, 0.0, 0.0, ...</td>\n",
       "    </tr>\n",
       "    <tr>\n",
       "      <th>9</th>\n",
       "      <td>[0.0, 0.0, 0.0, 0.0, 0.0, 0.0, 0.0, 0.0, 0.0, ...</td>\n",
       "      <td>[0.0, 0.0, 0.0, 0.0, 0.0, 0.0, 0.0, 0.0, 0.0, ...</td>\n",
       "    </tr>\n",
       "  </tbody>\n",
       "</table>\n",
       "</div>"
      ],
      "text/plain": [
       "                                                 BUY  \\\n",
       "0  [0.0, 0.0, 0.0, 0.0, 0.0, 0.0, 0.0, 0.0, 0.0, ...   \n",
       "1  [0.0, 0.0, 0.0, 0.0, 0.0, 0.0, 0.0, 0.0, 0.0, ...   \n",
       "2  [0.0, 0.0, 0.0, 0.0, 0.0, 0.0, 0.0, 0.0, 0.0, ...   \n",
       "3  [0.0, 0.0, 0.0, 0.0, 0.0, 0.0, 0.0, 0.0, 0.0, ...   \n",
       "4  [0.0, 0.0, 0.0, 0.0, 0.0, 0.0, 0.0, 0.0, 0.0, ...   \n",
       "5  [0.0, 0.0, 0.0, 0.0, 0.0, 0.0, 0.0, 0.0, 0.0, ...   \n",
       "6  [0.0, 0.0, 0.0, 0.0, 0.0, 0.0, 0.0, 0.0, 0.0, ...   \n",
       "7  [0.0, 0.0, 0.0, 0.0, 0.0, 0.0, 0.0, 0.0, 0.0, ...   \n",
       "8  [0.0, 0.0, 0.0, 0.0, 0.0, 0.0, 0.0, 0.0, 0.0, ...   \n",
       "9  [0.0, 0.0, 0.0, 0.0, 0.0, 0.0, 0.0, 0.0, 0.0, ...   \n",
       "\n",
       "                                                SELL  \n",
       "0  [0.0, 0.0, 0.0, 0.0, 0.0, 0.0, 0.0, 0.0, 0.0, ...  \n",
       "1  [0.0, 0.0, 0.0, 0.0, 0.0, 0.0, 0.0, 0.0, 0.0, ...  \n",
       "2  [0.0, 0.0, 0.0, 0.0, 0.0, 0.0, 0.0, 0.0, 0.0, ...  \n",
       "3  [0.0, 0.0, 0.0, 0.0, 0.0, 0.0, 0.0, 0.0, 0.0, ...  \n",
       "4  [0.0, 0.0, 0.0, 0.0, 0.0, 0.0, 0.0, 0.0, 0.0, ...  \n",
       "5  [0.0, 0.0, 0.0, 0.0, 0.0, 0.0, 0.0, 0.0, 0.0, ...  \n",
       "6  [0.0, 0.0, 0.0, 0.0, 0.0, 0.0, 0.0, 0.0, 0.0, ...  \n",
       "7  [0.0, 0.0, 0.0, 0.0, 0.0, 0.0, 0.0, 0.0, 0.0, ...  \n",
       "8  [0.0, 0.0, 0.0, 0.0, 0.0, 0.0, 0.0, 0.0, 0.0, ...  \n",
       "9  [0.0, 0.0, 0.0, 0.0, 0.0, 0.0, 0.0, 0.0, 0.0, ...  "
      ]
     },
     "execution_count": 39,
     "metadata": {},
     "output_type": "execute_result"
    }
   ],
   "source": [
    "tau_max=200\n",
    "digits_response ={\"BUY\":[np.zeros(tau_max) for i in range(10)], \"SELL\":[np.zeros(tau_max) for i in range(10)]}\n",
    "\n",
    "\n",
    "pd.DataFrame(digits_response)\n"
   ]
  },
  {
   "cell_type": "code",
   "execution_count": 21,
   "metadata": {},
   "outputs": [
    {
     "data": {
      "text/plain": [
       "array([-0.   , -0.01 , -0.015, -0.015, -0.015, -0.015,  0.015, -0.03 ,\n",
       "       -0.025, -0.05 , -0.05 ,  0.05 , -0.085,  0.04 , -0.085,  0.045,\n",
       "       -0.005,  0.005,  0.005,  0.005,  0.005,  0.005,  0.005, -0.05 ,\n",
       "        0.015, -0.03 , -0.01 , -0.01 ,  0.025,  0.04 , -0.045, -0.045,\n",
       "        0.055, -0.055,  0.025,  0.025,  0.03 ,  0.025,  0.04 ,  0.035,\n",
       "       -0.045,  0.04 , -0.035,  0.045,  0.045,  0.045, -0.105, -0.105,\n",
       "        0.105,  0.105,  0.105, -0.105,  0.085,  0.085, -0.085,  0.085,\n",
       "        0.085,  0.08 ,  0.08 ,  0.05 ,  0.055, -0.025,  0.065, -0.055,\n",
       "       -0.035, -0.035,  0.05 ,  0.05 ,  0.105,  0.105, -0.105,  0.105,\n",
       "        0.105,  0.105,  0.105,  0.105, -0.145,  0.145,  0.145, -0.145,\n",
       "       -0.135, -0.13 ,  0.05 ,  0.06 ,  0.06 ,  0.06 ,  0.06 , -0.06 ,\n",
       "       -0.06 , -0.06 , -0.06 , -0.035,  0.035,  0.035,  0.035,  0.04 ,\n",
       "        0.035,  0.025,  0.025,  0.025,  0.065,  0.075,  0.085,  0.085,\n",
       "        0.095, -0.095, -0.095, -0.105, -0.12 , -0.12 , -0.085, -0.085,\n",
       "        0.085, -0.085, -0.085, -0.11 , -0.11 ,  0.095, -0.15 , -0.16 ,\n",
       "        0.125,  0.125,  0.125,  0.125,  0.125, -0.15 , -0.15 ,  0.165,\n",
       "       -0.165, -0.165,  0.165,  0.165,  0.165, -0.25 ,  0.22 , -0.22 ,\n",
       "       -0.15 , -0.15 , -0.15 ,  0.165,  0.12 , -0.15 ,  0.135, -0.135,\n",
       "        0.095,  0.095,  0.095, -0.04 , -0.025, -0.025,  0.045,  0.05 ,\n",
       "       -0.05 ,  0.05 ,  0.05 ,  0.01 , -0.035, -0.045,  0.07 ,  0.09 ,\n",
       "       -0.135, -0.165, -0.165, -0.21 , -0.225, -0.225, -0.22 , -0.22 ,\n",
       "       -0.22 , -0.215, -0.215, -0.215, -0.185, -0.18 , -0.18 , -0.18 ,\n",
       "       -0.18 ,  0.09 ,  0.09 ,  0.12 , -0.175, -0.105,  0.105,  0.105,\n",
       "        0.105,  0.105, -0.19 , -0.195, -0.195, -0.195, -0.195, -0.195,\n",
       "        0.11 ,  0.1  ,  0.1  , -0.1  , -0.1  , -0.135,  0.145, -0.175])"
      ]
     },
     "execution_count": 21,
     "metadata": {},
     "output_type": "execute_result"
    }
   ],
   "source": [
    "a = np.zeros(200)\n",
    "b= np.ones(200)\n",
    "\n",
    "\n"
   ]
  },
  {
   "cell_type": "code",
   "execution_count": 14,
   "metadata": {},
   "outputs": [],
   "source": [
    "\n",
    "def response(path):\n",
    "    df = vaex.open(path)\n",
    "    events = df.to_pandas_df()\n",
    "    events.set_index(\"index\",inplace=True)\n",
    "\n",
    "    events[\"unit_digit\"] = pd.Categorical(extract_digit(events, k=1))\n",
    "    events[\"trade_sign\"] = pd.Categorical(events[\"s\"].apply(lambda x : \"BUY\" if x == 1 else \"SELL\"))\n",
    "\n",
    "    response_functions = events.groupby([\"trade_sign\", \"unit_digit\"]).apply(\n",
    "                    lambda x: compute_R_over_time(x, tau_max=400)\n",
    "                )\n",
    "    \n",
    "    return response_functions"
   ]
  },
  {
   "cell_type": "code",
   "execution_count": 15,
   "metadata": {},
   "outputs": [],
   "source": [
    "appple_response_functions = response(\"data/clean/DOW/AAPL-events_w_s.arrow\")\n",
    "ibm_response_functions = response(\"data/clean/DOW/IBM-events_w_s.arrow\")"
   ]
  },
  {
   "cell_type": "code",
   "execution_count": 23,
   "metadata": {},
   "outputs": [
    {
     "data": {
      "text/plain": [
       "trade_sign  unit_digit\n",
       "BUY         0             [-1.6967902961017386e-14, 0.001158309053819689...\n",
       "            1             [2.294728721887667e-13, 0.0010380268220729137,...\n",
       "            2             [-1.1607509359247075e-13, 0.001121518253404001...\n",
       "            3             [2.722922965907966e-13, 0.0004069939109839253,...\n",
       "            4             [-5.514076810115651e-14, 9.002141519612565e-05...\n",
       "            5             [-6.877970346835408e-15, 0.000496858867032399,...\n",
       "            6             [1.5314959147208533e-13, 0.0006773467488948399...\n",
       "            7             [-1.0164098712270073e-13, 0.001073736335234120...\n",
       "            8             [2.9266536712129395e-13, 0.0009375658318409357...\n",
       "            9             [-9.794430727491251e-14, 0.0002887316156532608...\n",
       "SELL        0             [3.9916607560881696e-13, -0.001800389764519995...\n",
       "            1             [1.6946028737629283e-13, -0.000593095857237031...\n",
       "            2             [-8.371619290019746e-14, -0.000588461538935224...\n",
       "            3             [1.5235446894427683e-13, -0.000234155583967507...\n",
       "            4             [-2.1075252415996904e-13, 8.383774435699597e-0...\n",
       "            5             [2.4150794429397907e-13, -0.000937144074315594...\n",
       "            6             [1.905801864230468e-13, -0.0006421949662996783...\n",
       "            7             [-7.408480260747406e-14, -0.000899909403700030...\n",
       "            8             [1.105160237647344e-13, -0.0006852895374663358...\n",
       "            9             [-2.868126410173149e-13, -0.000240228396593577...\n",
       "dtype: object"
      ]
     },
     "execution_count": 23,
     "metadata": {},
     "output_type": "execute_result"
    }
   ],
   "source": [
    "from functools import reduce\n",
    "\n",
    "reduce(lambda a,b: a +b, [appple_response_functions, ibm_response_functions])"
   ]
  },
  {
   "cell_type": "markdown",
   "metadata": {},
   "source": [
    "## Average number of trades over all stocks"
   ]
  },
  {
   "cell_type": "code",
   "execution_count": 115,
   "metadata": {},
   "outputs": [
    {
     "name": "stdout",
     "output_type": "stream",
     "text": [
      "data/clean/DOW/AAPL-events_w_s.arrow\n"
     ]
    },
    {
     "data": {
      "text/plain": [
       "Text(0.5, 0, 'Average number of trades')"
      ]
     },
     "execution_count": 115,
     "metadata": {},
     "output_type": "execute_result"
    },
    {
     "data": {
      "image/png": "[encoded data removed]",
      "text/plain": [
       "<Figure size 640x480 with 1 Axes>"
      ]
     },
     "metadata": {},
     "output_type": "display_data"
    }
   ],
   "source": [
    "import glob\n",
    "\n",
    "\n",
    "datasets = glob.glob(\"data/clean/DOW/*events_w_s.arrow\")\n",
    "num=[]\n",
    "    ## RESPONSE FUNCTION\n",
    "for dataset in datasets:\n",
    "    events = vaex.open(dataset).to_pandas_df()\n",
    "    events.set_index(\"index\",inplace=True)\n",
    "    average_num_trades = events.groupby(pd.Grouper(freq=\"1D\", origin='start_day')).size().mean()\n",
    "    if average_num_trades > 10000:\n",
    "        print(dataset)\n",
    "    num.append(average_num_trades)\n",
    "    \n",
    "\n",
    "sns.histplot(num)\n",
    "plt.title(\"Histogram of the average number of trades during one day for Dow Jones index\")\n",
    "plt.xlabel(\"Average number of trades\")"
   ]
  },
  {
   "cell_type": "code",
   "execution_count": 103,
   "metadata": {},
   "outputs": [],
   "source": [
    "def compute_R_over_time(events: pd.DataFrame, tau_max=1000):\n",
    "       \n",
    "    ## computing for each day, make sure to drop the nan days as there are only 252 trading days\n",
    "    responses = events.groupby(pd.Grouper(freq=\"1D\", origin='start_day')).apply(lambda x: compute_R_fast(x, tau_max=tau_max))\n",
    "    \n",
    "    #keeping only trading days\n",
    "    \n",
    "    trading_days = events.index.day_of_year.drop_duplicates()\n",
    "    trading_days_mask = np.isin(responses.index.day_of_year.to_numpy(), trading_days)\n",
    "\n",
    "    responses = responses.iloc[trading_days_mask]\n",
    "    \n",
    "    max_len = responses.apply(lambda x: len(x)).max()\n",
    "    \n",
    "    ## we pad every trading day response function up to max_len viewed (usually equal to tau_max)\n",
    "    final_response = np.nanmean(np.array([np.pad(a, (0,max_len-a.shape[0]) , mode='constant', constant_values=np.nan) for a in responses.to_numpy()]),axis=0)\n",
    "    \n",
    "    return final_response"
   ]
  },
  {
   "cell_type": "code",
   "execution_count": 104,
   "metadata": {},
   "outputs": [],
   "source": [
    "a = compute_R_over_time(events=events, tau_max=10000)\n",
    "b = compute_R_fast(events=events, tau_max=10000)"
   ]
  },
  {
   "cell_type": "code",
   "execution_count": 105,
   "metadata": {},
   "outputs": [
    {
     "data": {
      "text/plain": [
       "[<matplotlib.lines.Line2D at 0x7f3d5da503a0>]"
      ]
     },
     "execution_count": 105,
     "metadata": {},
     "output_type": "execute_result"
    },
    {
     "data": {
      "image/png": "[encoded data removed]",
      "text/plain": [
       "<Figure size 640x480 with 1 Axes>"
      ]
     },
     "metadata": {},
     "output_type": "display_data"
    }
   ],
   "source": [
    "plt.plot(a)\n",
    "\n",
    "\n"
   ]
  },
  {
   "cell_type": "code",
   "execution_count": 106,
   "metadata": {},
   "outputs": [
    {
     "data": {
      "text/plain": [
       "[<matplotlib.lines.Line2D at 0x7f3d5d3d1d60>]"
      ]
     },
     "execution_count": 106,
     "metadata": {},
     "output_type": "execute_result"
    },
    {
     "data": {
      "image/png": "[encoded data removed]",
      "text/plain": [
       "<Figure size 640x480 with 1 Axes>"
      ]
     },
     "metadata": {},
     "output_type": "display_data"
    }
   ],
   "source": [
    "plt.plot(b)"
   ]
  }
 ],
 "metadata": {
  "kernelspec": {
   "display_name": "Python 3.9.13 ('fbd')",
   "language": "python",
   "name": "python3"
  },
  "language_info": {
   "codemirror_mode": {
    "name": "ipython",
    "version": 3
   },
   "file_extension": ".py",
   "mimetype": "text/x-python",
   "name": "python",
   "nbconvert_exporter": "python",
   "pygments_lexer": "ipython3",
   "version": "3.9.13"
  },
  "orig_nbformat": 4,
  "vscode": {
   "interpreter": {
    "hash": "466d81e4b105b7bde44d7709d69cf7f61bcee97bb090f5aa32a153d7515974fa"
   }
  }
 },
 "nbformat": 4,
 "nbformat_minor": 2
}
